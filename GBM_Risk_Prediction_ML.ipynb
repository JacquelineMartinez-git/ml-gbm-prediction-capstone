{
  "nbformat": 4,
  "nbformat_minor": 0,
  "metadata": {
    "colab": {
      "provenance": [],
      "authorship_tag": "ABX9TyMo6Fv7AGD8hEVtnMoE3ur3",
      "include_colab_link": true
    },
    "kernelspec": {
      "name": "python3",
      "display_name": "Python 3"
    },
    "language_info": {
      "name": "python"
    }
  },
  "cells": [
    {
      "cell_type": "markdown",
      "metadata": {
        "id": "view-in-github",
        "colab_type": "text"
      },
      "source": [
        "<a href=\"https://colab.research.google.com/github/JacquelineMartinez-git/ml-gbm-prediction-capstone/blob/main/GBM_Risk_Prediction_ML.ipynb\" target=\"_parent\"><img src=\"https://colab.research.google.com/assets/colab-badge.svg\" alt=\"Open In Colab\"/></a>"
      ]
    },
    {
      "cell_type": "code",
      "execution_count": 2,
      "metadata": {
        "id": "hTKvByIE-q-w",
        "colab": {
          "base_uri": "https://localhost:8080/",
          "height": 109
        },
        "outputId": "e1f7148f-8725-468b-9e89-3bd2b1b7de6e"
      },
      "outputs": [
        {
          "output_type": "display_data",
          "data": {
            "text/plain": [
              "<IPython.core.display.HTML object>"
            ],
            "text/html": [
              "\n",
              "     <input type=\"file\" id=\"files-b83402d3-92e5-4a19-8528-d16a412c0779\" name=\"files[]\" multiple disabled\n",
              "        style=\"border:none\" />\n",
              "     <output id=\"result-b83402d3-92e5-4a19-8528-d16a412c0779\">\n",
              "      Upload widget is only available when the cell has been executed in the\n",
              "      current browser session. Please rerun this cell to enable.\n",
              "      </output>\n",
              "      <script>// Copyright 2017 Google LLC\n",
              "//\n",
              "// Licensed under the Apache License, Version 2.0 (the \"License\");\n",
              "// you may not use this file except in compliance with the License.\n",
              "// You may obtain a copy of the License at\n",
              "//\n",
              "//      http://www.apache.org/licenses/LICENSE-2.0\n",
              "//\n",
              "// Unless required by applicable law or agreed to in writing, software\n",
              "// distributed under the License is distributed on an \"AS IS\" BASIS,\n",
              "// WITHOUT WARRANTIES OR CONDITIONS OF ANY KIND, either express or implied.\n",
              "// See the License for the specific language governing permissions and\n",
              "// limitations under the License.\n",
              "\n",
              "/**\n",
              " * @fileoverview Helpers for google.colab Python module.\n",
              " */\n",
              "(function(scope) {\n",
              "function span(text, styleAttributes = {}) {\n",
              "  const element = document.createElement('span');\n",
              "  element.textContent = text;\n",
              "  for (const key of Object.keys(styleAttributes)) {\n",
              "    element.style[key] = styleAttributes[key];\n",
              "  }\n",
              "  return element;\n",
              "}\n",
              "\n",
              "// Max number of bytes which will be uploaded at a time.\n",
              "const MAX_PAYLOAD_SIZE = 100 * 1024;\n",
              "\n",
              "function _uploadFiles(inputId, outputId) {\n",
              "  const steps = uploadFilesStep(inputId, outputId);\n",
              "  const outputElement = document.getElementById(outputId);\n",
              "  // Cache steps on the outputElement to make it available for the next call\n",
              "  // to uploadFilesContinue from Python.\n",
              "  outputElement.steps = steps;\n",
              "\n",
              "  return _uploadFilesContinue(outputId);\n",
              "}\n",
              "\n",
              "// This is roughly an async generator (not supported in the browser yet),\n",
              "// where there are multiple asynchronous steps and the Python side is going\n",
              "// to poll for completion of each step.\n",
              "// This uses a Promise to block the python side on completion of each step,\n",
              "// then passes the result of the previous step as the input to the next step.\n",
              "function _uploadFilesContinue(outputId) {\n",
              "  const outputElement = document.getElementById(outputId);\n",
              "  const steps = outputElement.steps;\n",
              "\n",
              "  const next = steps.next(outputElement.lastPromiseValue);\n",
              "  return Promise.resolve(next.value.promise).then((value) => {\n",
              "    // Cache the last promise value to make it available to the next\n",
              "    // step of the generator.\n",
              "    outputElement.lastPromiseValue = value;\n",
              "    return next.value.response;\n",
              "  });\n",
              "}\n",
              "\n",
              "/**\n",
              " * Generator function which is called between each async step of the upload\n",
              " * process.\n",
              " * @param {string} inputId Element ID of the input file picker element.\n",
              " * @param {string} outputId Element ID of the output display.\n",
              " * @return {!Iterable<!Object>} Iterable of next steps.\n",
              " */\n",
              "function* uploadFilesStep(inputId, outputId) {\n",
              "  const inputElement = document.getElementById(inputId);\n",
              "  inputElement.disabled = false;\n",
              "\n",
              "  const outputElement = document.getElementById(outputId);\n",
              "  outputElement.innerHTML = '';\n",
              "\n",
              "  const pickedPromise = new Promise((resolve) => {\n",
              "    inputElement.addEventListener('change', (e) => {\n",
              "      resolve(e.target.files);\n",
              "    });\n",
              "  });\n",
              "\n",
              "  const cancel = document.createElement('button');\n",
              "  inputElement.parentElement.appendChild(cancel);\n",
              "  cancel.textContent = 'Cancel upload';\n",
              "  const cancelPromise = new Promise((resolve) => {\n",
              "    cancel.onclick = () => {\n",
              "      resolve(null);\n",
              "    };\n",
              "  });\n",
              "\n",
              "  // Wait for the user to pick the files.\n",
              "  const files = yield {\n",
              "    promise: Promise.race([pickedPromise, cancelPromise]),\n",
              "    response: {\n",
              "      action: 'starting',\n",
              "    }\n",
              "  };\n",
              "\n",
              "  cancel.remove();\n",
              "\n",
              "  // Disable the input element since further picks are not allowed.\n",
              "  inputElement.disabled = true;\n",
              "\n",
              "  if (!files) {\n",
              "    return {\n",
              "      response: {\n",
              "        action: 'complete',\n",
              "      }\n",
              "    };\n",
              "  }\n",
              "\n",
              "  for (const file of files) {\n",
              "    const li = document.createElement('li');\n",
              "    li.append(span(file.name, {fontWeight: 'bold'}));\n",
              "    li.append(span(\n",
              "        `(${file.type || 'n/a'}) - ${file.size} bytes, ` +\n",
              "        `last modified: ${\n",
              "            file.lastModifiedDate ? file.lastModifiedDate.toLocaleDateString() :\n",
              "                                    'n/a'} - `));\n",
              "    const percent = span('0% done');\n",
              "    li.appendChild(percent);\n",
              "\n",
              "    outputElement.appendChild(li);\n",
              "\n",
              "    const fileDataPromise = new Promise((resolve) => {\n",
              "      const reader = new FileReader();\n",
              "      reader.onload = (e) => {\n",
              "        resolve(e.target.result);\n",
              "      };\n",
              "      reader.readAsArrayBuffer(file);\n",
              "    });\n",
              "    // Wait for the data to be ready.\n",
              "    let fileData = yield {\n",
              "      promise: fileDataPromise,\n",
              "      response: {\n",
              "        action: 'continue',\n",
              "      }\n",
              "    };\n",
              "\n",
              "    // Use a chunked sending to avoid message size limits. See b/62115660.\n",
              "    let position = 0;\n",
              "    do {\n",
              "      const length = Math.min(fileData.byteLength - position, MAX_PAYLOAD_SIZE);\n",
              "      const chunk = new Uint8Array(fileData, position, length);\n",
              "      position += length;\n",
              "\n",
              "      const base64 = btoa(String.fromCharCode.apply(null, chunk));\n",
              "      yield {\n",
              "        response: {\n",
              "          action: 'append',\n",
              "          file: file.name,\n",
              "          data: base64,\n",
              "        },\n",
              "      };\n",
              "\n",
              "      let percentDone = fileData.byteLength === 0 ?\n",
              "          100 :\n",
              "          Math.round((position / fileData.byteLength) * 100);\n",
              "      percent.textContent = `${percentDone}% done`;\n",
              "\n",
              "    } while (position < fileData.byteLength);\n",
              "  }\n",
              "\n",
              "  // All done.\n",
              "  yield {\n",
              "    response: {\n",
              "      action: 'complete',\n",
              "    }\n",
              "  };\n",
              "}\n",
              "\n",
              "scope.google = scope.google || {};\n",
              "scope.google.colab = scope.google.colab || {};\n",
              "scope.google.colab._files = {\n",
              "  _uploadFiles,\n",
              "  _uploadFilesContinue,\n",
              "};\n",
              "})(self);\n",
              "</script> "
            ]
          },
          "metadata": {}
        },
        {
          "output_type": "stream",
          "name": "stdout",
          "text": [
            "Saving TCGA_GBM_LGG_Mutations_all.csv to TCGA_GBM_LGG_Mutations_all.csv\n",
            "Saving TCGA_InfoWithGrade.csv to TCGA_InfoWithGrade.csv\n"
          ]
        }
      ],
      "source": [
        "# upload files\n",
        "\n",
        "from google.colab import files\n",
        "\n",
        "uploaded = files.upload()"
      ]
    },
    {
      "cell_type": "code",
      "source": [
        "import pandas as pd\n",
        "\n",
        "# loading datasets\n",
        "df_mutations = pd.read_csv(\"TCGA_GBM_LGG_Mutations_all.csv\")\n",
        "df_info = pd.read_csv(\"TCGA_InfoWithGrade.csv\")\n",
        "\n",
        "# checking first few rows\n",
        "df_mutations.head(), df_info.head()"
      ],
      "metadata": {
        "colab": {
          "base_uri": "https://localhost:8080/"
        },
        "id": "j8SKDWW4Eq4i",
        "outputId": "96160130-884c-45c5-f07a-be57e5e54a69"
      },
      "execution_count": 3,
      "outputs": [
        {
          "output_type": "execute_result",
          "data": {
            "text/plain": [
              "(  Grade   Project       Case_ID  Gender   Age_at_diagnosis  \\\n",
              " 0   LGG  TCGA-LGG  TCGA-DU-8164    Male  51 years 108 days   \n",
              " 1   LGG  TCGA-LGG  TCGA-QH-A6CY    Male  38 years 261 days   \n",
              " 2   LGG  TCGA-LGG  TCGA-HW-A5KM    Male   35 years 62 days   \n",
              " 3   LGG  TCGA-LGG  TCGA-E1-A7YE  Female  32 years 283 days   \n",
              " 4   LGG  TCGA-LGG  TCGA-S9-A6WG    Male  31 years 187 days   \n",
              " \n",
              "          Primary_Diagnosis   Race     IDH1         TP53         ATRX  ...  \\\n",
              " 0   Oligodendroglioma, NOS  white  MUTATED  NOT_MUTATED  NOT_MUTATED  ...   \n",
              " 1             Mixed glioma  white  MUTATED  NOT_MUTATED  NOT_MUTATED  ...   \n",
              " 2         Astrocytoma, NOS  white  MUTATED      MUTATED      MUTATED  ...   \n",
              " 3  Astrocytoma, anaplastic  white  MUTATED      MUTATED      MUTATED  ...   \n",
              " 4  Astrocytoma, anaplastic  white  MUTATED      MUTATED      MUTATED  ...   \n",
              " \n",
              "          FUBP1          RB1       NOTCH1         BCOR        CSMD3  \\\n",
              " 0      MUTATED  NOT_MUTATED  NOT_MUTATED  NOT_MUTATED  NOT_MUTATED   \n",
              " 1  NOT_MUTATED  NOT_MUTATED  NOT_MUTATED  NOT_MUTATED  NOT_MUTATED   \n",
              " 2  NOT_MUTATED  NOT_MUTATED  NOT_MUTATED  NOT_MUTATED  NOT_MUTATED   \n",
              " 3  NOT_MUTATED  NOT_MUTATED  NOT_MUTATED  NOT_MUTATED  NOT_MUTATED   \n",
              " 4  NOT_MUTATED  NOT_MUTATED  NOT_MUTATED  NOT_MUTATED  NOT_MUTATED   \n",
              " \n",
              "        SMARCA4       GRIN2A         IDH2         FAT4       PDGFRA  \n",
              " 0  NOT_MUTATED  NOT_MUTATED  NOT_MUTATED  NOT_MUTATED  NOT_MUTATED  \n",
              " 1  NOT_MUTATED  NOT_MUTATED  NOT_MUTATED  NOT_MUTATED  NOT_MUTATED  \n",
              " 2  NOT_MUTATED  NOT_MUTATED  NOT_MUTATED  NOT_MUTATED  NOT_MUTATED  \n",
              " 3  NOT_MUTATED  NOT_MUTATED  NOT_MUTATED      MUTATED  NOT_MUTATED  \n",
              " 4  NOT_MUTATED  NOT_MUTATED  NOT_MUTATED  NOT_MUTATED  NOT_MUTATED  \n",
              " \n",
              " [5 rows x 27 columns],\n",
              "    Grade  Gender  Age_at_diagnosis  Race  IDH1  TP53  ATRX  PTEN  EGFR  CIC  \\\n",
              " 0      0       0             51.30     0     1     0     0     0     0    0   \n",
              " 1      0       0             38.72     0     1     0     0     0     0    1   \n",
              " 2      0       0             35.17     0     1     1     1     0     0    0   \n",
              " 3      0       1             32.78     0     1     1     1     0     0    0   \n",
              " 4      0       0             31.51     0     1     1     1     0     0    0   \n",
              " \n",
              "    ...  FUBP1  RB1  NOTCH1  BCOR  CSMD3  SMARCA4  GRIN2A  IDH2  FAT4  PDGFRA  \n",
              " 0  ...      1    0       0     0      0        0       0     0     0       0  \n",
              " 1  ...      0    0       0     0      0        0       0     0     0       0  \n",
              " 2  ...      0    0       0     0      0        0       0     0     0       0  \n",
              " 3  ...      0    0       0     0      0        0       0     0     1       0  \n",
              " 4  ...      0    0       0     0      0        0       0     0     0       0  \n",
              " \n",
              " [5 rows x 24 columns])"
            ]
          },
          "metadata": {},
          "execution_count": 3
        }
      ]
    },
    {
      "cell_type": "code",
      "source": [
        "# prints how many rows and columns there are\n",
        "print(\"Mutations Dataset Shape:\", df_mutations.shape)\n",
        "print(\"Info Dataset Shape:\", df_info.shape)\n",
        "\n",
        "# see which columns are available\n",
        "print(\"\\nMutations Columns:\", df_mutations.columns.tolist())\n",
        "print(\"Info Columns:\", df_info.columns.tolist())\n",
        "\n",
        "# get info on data types\n",
        "df_mutations.info()\n",
        "df_info.info()"
      ],
      "metadata": {
        "colab": {
          "base_uri": "https://localhost:8080/"
        },
        "id": "z6DyU8pDFFlc",
        "outputId": "3ce87bfc-0362-4457-efd7-3be2ab38cd37"
      },
      "execution_count": 4,
      "outputs": [
        {
          "output_type": "stream",
          "name": "stdout",
          "text": [
            "Mutations Dataset Shape: (862, 27)\n",
            "Info Dataset Shape: (839, 24)\n",
            "\n",
            "Mutations Columns: ['Grade', 'Project', 'Case_ID', 'Gender', 'Age_at_diagnosis', 'Primary_Diagnosis', 'Race', 'IDH1', 'TP53', 'ATRX', 'PTEN', 'EGFR', 'CIC', 'MUC16', 'PIK3CA', 'NF1', 'PIK3R1', 'FUBP1', 'RB1', 'NOTCH1', 'BCOR', 'CSMD3', 'SMARCA4', 'GRIN2A', 'IDH2', 'FAT4', 'PDGFRA']\n",
            "Info Columns: ['Grade', 'Gender', 'Age_at_diagnosis', 'Race', 'IDH1', 'TP53', 'ATRX', 'PTEN', 'EGFR', 'CIC', 'MUC16', 'PIK3CA', 'NF1', 'PIK3R1', 'FUBP1', 'RB1', 'NOTCH1', 'BCOR', 'CSMD3', 'SMARCA4', 'GRIN2A', 'IDH2', 'FAT4', 'PDGFRA']\n",
            "<class 'pandas.core.frame.DataFrame'>\n",
            "RangeIndex: 862 entries, 0 to 861\n",
            "Data columns (total 27 columns):\n",
            " #   Column             Non-Null Count  Dtype \n",
            "---  ------             --------------  ----- \n",
            " 0   Grade              862 non-null    object\n",
            " 1   Project            862 non-null    object\n",
            " 2   Case_ID            862 non-null    object\n",
            " 3   Gender             862 non-null    object\n",
            " 4   Age_at_diagnosis   862 non-null    object\n",
            " 5   Primary_Diagnosis  862 non-null    object\n",
            " 6   Race               862 non-null    object\n",
            " 7   IDH1               862 non-null    object\n",
            " 8   TP53               862 non-null    object\n",
            " 9   ATRX               862 non-null    object\n",
            " 10  PTEN               862 non-null    object\n",
            " 11  EGFR               862 non-null    object\n",
            " 12  CIC                862 non-null    object\n",
            " 13  MUC16              862 non-null    object\n",
            " 14  PIK3CA             862 non-null    object\n",
            " 15  NF1                862 non-null    object\n",
            " 16  PIK3R1             862 non-null    object\n",
            " 17  FUBP1              862 non-null    object\n",
            " 18  RB1                862 non-null    object\n",
            " 19  NOTCH1             862 non-null    object\n",
            " 20  BCOR               862 non-null    object\n",
            " 21  CSMD3              862 non-null    object\n",
            " 22  SMARCA4            862 non-null    object\n",
            " 23  GRIN2A             862 non-null    object\n",
            " 24  IDH2               862 non-null    object\n",
            " 25  FAT4               862 non-null    object\n",
            " 26  PDGFRA             862 non-null    object\n",
            "dtypes: object(27)\n",
            "memory usage: 182.0+ KB\n",
            "<class 'pandas.core.frame.DataFrame'>\n",
            "RangeIndex: 839 entries, 0 to 838\n",
            "Data columns (total 24 columns):\n",
            " #   Column            Non-Null Count  Dtype  \n",
            "---  ------            --------------  -----  \n",
            " 0   Grade             839 non-null    int64  \n",
            " 1   Gender            839 non-null    int64  \n",
            " 2   Age_at_diagnosis  839 non-null    float64\n",
            " 3   Race              839 non-null    int64  \n",
            " 4   IDH1              839 non-null    int64  \n",
            " 5   TP53              839 non-null    int64  \n",
            " 6   ATRX              839 non-null    int64  \n",
            " 7   PTEN              839 non-null    int64  \n",
            " 8   EGFR              839 non-null    int64  \n",
            " 9   CIC               839 non-null    int64  \n",
            " 10  MUC16             839 non-null    int64  \n",
            " 11  PIK3CA            839 non-null    int64  \n",
            " 12  NF1               839 non-null    int64  \n",
            " 13  PIK3R1            839 non-null    int64  \n",
            " 14  FUBP1             839 non-null    int64  \n",
            " 15  RB1               839 non-null    int64  \n",
            " 16  NOTCH1            839 non-null    int64  \n",
            " 17  BCOR              839 non-null    int64  \n",
            " 18  CSMD3             839 non-null    int64  \n",
            " 19  SMARCA4           839 non-null    int64  \n",
            " 20  GRIN2A            839 non-null    int64  \n",
            " 21  IDH2              839 non-null    int64  \n",
            " 22  FAT4              839 non-null    int64  \n",
            " 23  PDGFRA            839 non-null    int64  \n",
            "dtypes: float64(1), int64(23)\n",
            "memory usage: 157.4 KB\n"
          ]
        }
      ]
    },
    {
      "cell_type": "code",
      "source": [
        "# checking for missing values\n",
        "print(\"Missing values in Mutations dataset:\", df_mutations.isnull().sum())\n",
        "print(\"\\nMissing values in Info dataset:\", df_info.isnull().sum())"
      ],
      "metadata": {
        "colab": {
          "base_uri": "https://localhost:8080/"
        },
        "id": "8Phzm9YnFtJF",
        "outputId": "8b649ab3-d324-4c4a-a631-b2b8d176201b"
      },
      "execution_count": 5,
      "outputs": [
        {
          "output_type": "stream",
          "name": "stdout",
          "text": [
            "Missing values in Mutations dataset: Grade                0\n",
            "Project              0\n",
            "Case_ID              0\n",
            "Gender               0\n",
            "Age_at_diagnosis     0\n",
            "Primary_Diagnosis    0\n",
            "Race                 0\n",
            "IDH1                 0\n",
            "TP53                 0\n",
            "ATRX                 0\n",
            "PTEN                 0\n",
            "EGFR                 0\n",
            "CIC                  0\n",
            "MUC16                0\n",
            "PIK3CA               0\n",
            "NF1                  0\n",
            "PIK3R1               0\n",
            "FUBP1                0\n",
            "RB1                  0\n",
            "NOTCH1               0\n",
            "BCOR                 0\n",
            "CSMD3                0\n",
            "SMARCA4              0\n",
            "GRIN2A               0\n",
            "IDH2                 0\n",
            "FAT4                 0\n",
            "PDGFRA               0\n",
            "dtype: int64\n",
            "\n",
            "Missing values in Info dataset: Grade               0\n",
            "Gender              0\n",
            "Age_at_diagnosis    0\n",
            "Race                0\n",
            "IDH1                0\n",
            "TP53                0\n",
            "ATRX                0\n",
            "PTEN                0\n",
            "EGFR                0\n",
            "CIC                 0\n",
            "MUC16               0\n",
            "PIK3CA              0\n",
            "NF1                 0\n",
            "PIK3R1              0\n",
            "FUBP1               0\n",
            "RB1                 0\n",
            "NOTCH1              0\n",
            "BCOR                0\n",
            "CSMD3               0\n",
            "SMARCA4             0\n",
            "GRIN2A              0\n",
            "IDH2                0\n",
            "FAT4                0\n",
            "PDGFRA              0\n",
            "dtype: int64\n"
          ]
        }
      ]
    },
    {
      "cell_type": "code",
      "source": [
        "print(df_mutations.columns)\n",
        "print(df_info.columns)"
      ],
      "metadata": {
        "colab": {
          "base_uri": "https://localhost:8080/"
        },
        "id": "IGrgdOtPGcFj",
        "outputId": "c6ea3876-fafe-4e3c-c03d-002504d72fd5"
      },
      "execution_count": 6,
      "outputs": [
        {
          "output_type": "stream",
          "name": "stdout",
          "text": [
            "Index(['Grade', 'Project', 'Case_ID', 'Gender', 'Age_at_diagnosis',\n",
            "       'Primary_Diagnosis', 'Race', 'IDH1', 'TP53', 'ATRX', 'PTEN', 'EGFR',\n",
            "       'CIC', 'MUC16', 'PIK3CA', 'NF1', 'PIK3R1', 'FUBP1', 'RB1', 'NOTCH1',\n",
            "       'BCOR', 'CSMD3', 'SMARCA4', 'GRIN2A', 'IDH2', 'FAT4', 'PDGFRA'],\n",
            "      dtype='object')\n",
            "Index(['Grade', 'Gender', 'Age_at_diagnosis', 'Race', 'IDH1', 'TP53', 'ATRX',\n",
            "       'PTEN', 'EGFR', 'CIC', 'MUC16', 'PIK3CA', 'NF1', 'PIK3R1', 'FUBP1',\n",
            "       'RB1', 'NOTCH1', 'BCOR', 'CSMD3', 'SMARCA4', 'GRIN2A', 'IDH2', 'FAT4',\n",
            "       'PDGFRA'],\n",
            "      dtype='object')\n"
          ]
        }
      ]
    },
    {
      "cell_type": "code",
      "source": [
        "# comparing unique values for \"Grade\" in both datasets\n",
        "print(\"Unique Grades in Mutations Dataset:\", df_mutations[\"Grade\"].unique())\n",
        "print(\"Unique Grades in Info Dataset:\", df_info[\"Grade\"].unique())\n",
        "\n",
        "# comparing unique values for \"Gender\" in both datasets\n",
        "print(\"Unique Grades in Mutations Dataset:\", df_mutations[\"Gender\"].unique())\n",
        "print(\"Unique Grades in Info Dataset:\", df_info[\"Gender\"].unique())\n",
        "\n",
        "# omparing number of unique patients (if possible)\n",
        "print(\"Number of Unique Age_at_diagnosis in Mutations Dataset:\", df_mutations[\"Age_at_diagnosis\"].nunique())\n",
        "print(\"Number of Unique Age_at_diagnosis in Info Dataset:\", df_info[\"Age_at_diagnosis\"].nunique())"
      ],
      "metadata": {
        "colab": {
          "base_uri": "https://localhost:8080/"
        },
        "id": "Ap6SfjBeGoBl",
        "outputId": "acb440c3-2b79-4744-a18a-8b3096cbbbdd"
      },
      "execution_count": 7,
      "outputs": [
        {
          "output_type": "stream",
          "name": "stdout",
          "text": [
            "Unique Grades in Mutations Dataset: ['LGG' 'GBM']\n",
            "Unique Grades in Info Dataset: [0 1]\n",
            "Unique Grades in Mutations Dataset: ['Male' 'Female' '--']\n",
            "Unique Grades in Info Dataset: [0 1]\n",
            "Number of Unique Age_at_diagnosis in Mutations Dataset: 838\n",
            "Number of Unique Age_at_diagnosis in Info Dataset: 766\n"
          ]
        }
      ]
    },
    {
      "cell_type": "code",
      "source": [
        "# Info Dataset is processed from original \"Mutations Dataset\". Will use \"Info\" for ML training."
      ],
      "metadata": {
        "id": "5JXYbrjxHGyf"
      },
      "execution_count": null,
      "outputs": []
    },
    {
      "cell_type": "code",
      "source": [
        "# Preparing dataset for ML training - feature and target selection\n",
        "\n",
        "# define X (features) and y (target variable)\n",
        "X = df_info.drop(columns=[\"Grade\"]) # features: all columns excluding Grade\n",
        "y = df_info[\"Grade\"] # target variable: LGG (0) or GBM (1)"
      ],
      "metadata": {
        "id": "-eWqFDl6HKi8"
      },
      "execution_count": 8,
      "outputs": []
    },
    {
      "cell_type": "code",
      "source": [
        "# Split data for model training and testing\n",
        "\n",
        "from sklearn.model_selection import train_test_split\n",
        "from sklearn.preprocessing import StandardScaler\n",
        "\n",
        "# splitting into 80% training and 20% testing\n",
        "X_train, X_test, y_train, y_test = train_test_split(X, y, test_size=0.2, random_state=42)\n",
        "\n",
        "# scale numerical features for better model performance\n",
        "scaler = StandardScaler()\n",
        "X_train_scaled = scaler.fit_transform(X_train)\n",
        "X_test_scaled = scaler.transform(X_test)"
      ],
      "metadata": {
        "id": "i1eeyEPUHaJw"
      },
      "execution_count": 9,
      "outputs": []
    }
  ]
}